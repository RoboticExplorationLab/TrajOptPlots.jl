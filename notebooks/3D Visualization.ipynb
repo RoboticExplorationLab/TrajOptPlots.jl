{
 "cells": [
  {
   "cell_type": "code",
   "execution_count": 1,
   "metadata": {},
   "outputs": [
    {
     "name": "stderr",
     "output_type": "stream",
     "text": [
      "\u001b[32m\u001b[1m Activating\u001b[22m\u001b[39m environment at `~/.julia/dev/TrajOptPlots/notebooks/Project.toml`\n"
     ]
    }
   ],
   "source": [
    "import Pkg; Pkg.activate(@__DIR__); Pkg.instantiate()\n",
    "using TrajOptPlots\n",
    "using StaticArrays\n",
    "using Altro\n",
    "using TrajectoryOptimization"
   ]
  },
  {
   "cell_type": "markdown",
   "metadata": {},
   "source": [
    "## Launch Visualizer\n",
    "We start by launching a `MeshCat` visualizer. We can use `render` to open the visualizer in the most relevant format for our current context (renders in a cell for a Jupyter Notebook)."
   ]
  },
  {
   "cell_type": "code",
   "execution_count": 2,
   "metadata": {},
   "outputs": [
    {
     "name": "stderr",
     "output_type": "stream",
     "text": [
      "┌ Info: MeshCat server started. You can open the visualizer by visiting the following URL in your browser:\n",
      "│ http://127.0.0.1:8700\n",
      "└ @ MeshCat /home/brian/.julia/dev/MeshCat/src/visualizer.jl:73\n"
     ]
    },
    {
     "data": {
      "text/html": [
       "    <div style=\"height: 500px; width: 100%; overflow-x: auto; overflow-y: hidden; resize: both\">\n",
       "    <iframe src=\"http://127.0.0.1:8700\" style=\"width: 100%; height: 100%; border: none\"></iframe>\n",
       "    </div>\n"
      ],
      "text/plain": [
       "MeshCat.DisplayedVisualizer(MeshCat.CoreVisualizer(MeshCat.SceneTrees.SceneNode(nothing, nothing, Dict{String,Array{UInt8,1}}(), nothing, Dict{String,MeshCat.SceneTrees.SceneNode}()), Set{Any}(), ip\"127.0.0.1\", 8700))"
      ]
     },
     "execution_count": 2,
     "metadata": {},
     "output_type": "execute_result"
    }
   ],
   "source": [
    "using MeshCat\n",
    "vis = Visualizer()\n",
    "render(vis)"
   ]
  },
  {
   "cell_type": "markdown",
   "metadata": {},
   "source": [
    "## Visualizing a Model\n",
    "Let's start with one of the models that already has it's visualization defined. All of the models in [`RobotZoo.jl`](https://github.com/RoboticExplorationLab/RobotZoo.jl) have visualization methods defined in `TrajOptPlots`. Let's pick the canonical cartpole.\n",
    "\n",
    "To add the model to our visualizer, we use the `TrajOptPlots.set_mesh!` method."
   ]
  },
  {
   "cell_type": "code",
   "execution_count": 3,
   "metadata": {},
   "outputs": [
    {
     "data": {
      "text/plain": [
       "MeshCat Visualizer with path /meshcat/robot/cart/pole at http://127.0.0.1:8700"
      ]
     },
     "execution_count": 3,
     "metadata": {},
     "output_type": "execute_result"
    }
   ],
   "source": [
    "# Load the Cartpole model\n",
    "using RobotZoo: Cartpole\n",
    "\n",
    "# Instantiate the cartpole model\n",
    "model = Cartpole()\n",
    "\n",
    "# Add model to the visualizer\n",
    "TrajOptPlots.set_mesh!(vis, model)"
   ]
  },
  {
   "cell_type": "markdown",
   "metadata": {},
   "source": [
    "### Changing the color\n",
    "Sometimes we want to change the color of the model, for example, if we want to plot multiple copies. All of the models in `RobotZoo` allow at least one color to be changed via the `color` argument:"
   ]
  },
  {
   "cell_type": "code",
   "execution_count": 4,
   "metadata": {},
   "outputs": [
    {
     "data": {
      "text/plain": [
       "MeshCat Visualizer with path /meshcat/robot/cart/pole at http://127.0.0.1:8700"
      ]
     },
     "execution_count": 4,
     "metadata": {},
     "output_type": "execute_result"
    }
   ],
   "source": [
    "using Colors   # import the colorant string\n",
    "# Change the color\n",
    "TrajOptPlots.set_mesh!(vis, model, color=colorant\"blue\")"
   ]
  },
  {
   "cell_type": "markdown",
   "metadata": {},
   "source": [
    "### Adding another model\n",
    "The model, by default is added under the `robot` path in the MeshCat visualizer tree. We can add another model by simply using a different path in the tree. We don't see it in the visualizer since it's directly on top of the existing model."
   ]
  },
  {
   "cell_type": "code",
   "execution_count": 5,
   "metadata": {},
   "outputs": [
    {
     "data": {
      "text/plain": [
       "MeshCat Visualizer with path /meshcat/robot_copy/robot/cart/pole at http://127.0.0.1:8700"
      ]
     },
     "execution_count": 5,
     "metadata": {},
     "output_type": "execute_result"
    }
   ],
   "source": [
    "# add another robot\n",
    "TrajOptPlots.set_mesh!(vis[\"robot_copy\"], model)"
   ]
  },
  {
   "cell_type": "markdown",
   "metadata": {},
   "source": [
    "### Deleting a Model or Scene\n",
    "If you want to delete a model, simply use the `delete!` method provided by MeshCat on the `robot` in the tree:"
   ]
  },
  {
   "cell_type": "code",
   "execution_count": 6,
   "metadata": {},
   "outputs": [],
   "source": [
    "delete!(vis[\"robot\"]);             # deletes the blue model at the root of the vis tree."
   ]
  },
  {
   "cell_type": "code",
   "execution_count": 7,
   "metadata": {},
   "outputs": [],
   "source": [
    "delete!(vis[\"robot_copy/robot\"]);  # deletes the other model we added"
   ]
  },
  {
   "cell_type": "code",
   "execution_count": 8,
   "metadata": {},
   "outputs": [],
   "source": [
    "delete!(vis);                      # clears the scene"
   ]
  },
  {
   "cell_type": "markdown",
   "metadata": {},
   "source": [
    "## Visualizing a State\n",
    "We can change the model configuration with the `visualize!` method. Note that we have to pass it a `StaticVector`."
   ]
  },
  {
   "cell_type": "code",
   "execution_count": 9,
   "metadata": {},
   "outputs": [
    {
     "data": {
      "text/plain": [
       "MeshCat Visualizer with path /meshcat/robot/cart/pole/geom at http://127.0.0.1:8700"
      ]
     },
     "execution_count": 9,
     "metadata": {},
     "output_type": "execute_result"
    }
   ],
   "source": [
    "# Change the robot state\n",
    "TrajOptPlots.set_mesh!(vis, model)   # add the model back\n",
    "x = SA[0.5, pi/4, 0, 0]              # [x,θ,xdot,θdot]  (velocities don't matter)\n",
    "visualize!(vis, model, x)"
   ]
  },
  {
   "cell_type": "markdown",
   "metadata": {},
   "source": [
    "### Visualizing a Trajectory\n",
    "We can visualize an entire trajectory using the same `visualize!` method, this time passing in either a vector of states and a final time, or an `AbstractTrajectory`."
   ]
  },
  {
   "cell_type": "code",
   "execution_count": 10,
   "metadata": {},
   "outputs": [],
   "source": [
    "# Solve the cartpole problem\n",
    "prob, opts = Altro.Problems.Cartpole()\n",
    "solver = ALTROSolver(prob, opts)\n",
    "solve!(solver)\n",
    "\n",
    "# Get the trajectory\n",
    "X = states(solver)\n",
    "tf = prob.tf\n",
    "\n",
    "# Visualize with a vector of states and final time\n",
    "visualize!(vis, model, tf, X)\n",
    "\n",
    "# Visualize with a trajectory\n",
    "Z = get_trajectory(solver)\n",
    "visualize!(vis, model, Z)\n",
    "\n",
    "# Visualize with the problem or solver\n",
    "visualize!(vis, prob)\n",
    "visualize!(vis, solver)"
   ]
  },
  {
   "cell_type": "markdown",
   "metadata": {},
   "source": [
    "## Visualizing multiple trajectories\n",
    "We can compare different results by visualizing multiple trajectories at the same time."
   ]
  },
  {
   "cell_type": "code",
   "execution_count": 11,
   "metadata": {},
   "outputs": [
    {
     "name": "stderr",
     "output_type": "stream",
     "text": [
      "┌ Info: MeshCat server started. You can open the visualizer by visiting the following URL in your browser:\n",
      "│ http://127.0.0.1:8701\n",
      "└ @ MeshCat /home/brian/.julia/dev/MeshCat/src/visualizer.jl:73\n"
     ]
    },
    {
     "data": {
      "text/html": [
       "    <div style=\"height: 500px; width: 100%; overflow-x: auto; overflow-y: hidden; resize: both\">\n",
       "    <iframe src=\"http://127.0.0.1:8701\" style=\"width: 100%; height: 100%; border: none\"></iframe>\n",
       "    </div>\n"
      ],
      "text/plain": [
       "MeshCat.DisplayedVisualizer(MeshCat.CoreVisualizer(MeshCat.SceneTrees.SceneNode(nothing, nothing, Dict{String,Array{UInt8,1}}(), nothing, Dict{String,MeshCat.SceneTrees.SceneNode}(\"meshcat\" => MeshCat.SceneTrees.SceneNode(nothing, nothing, Dict{String,Array{UInt8,1}}(), nothing, Dict{String,MeshCat.SceneTrees.SceneNode}(\"robot\" => MeshCat.SceneTrees.SceneNode(nothing, nothing, Dict{String,Array{UInt8,1}}(), nothing, Dict{String,MeshCat.SceneTrees.SceneNode}(\"rod\" => MeshCat.SceneTrees.SceneNode(UInt8[0x83, 0xa6, 0x6f, 0x62, 0x6a, 0x65, 0x63, 0x74, 0x84, 0xaa  …  0x2f, 0x72, 0x6f, 0x62, 0x6f, 0x74, 0x2f, 0x72, 0x6f, 0x64], nothing, Dict{String,Array{UInt8,1}}(), nothing, Dict{String,MeshCat.SceneTrees.SceneNode}()),\"cart\" => MeshCat.SceneTrees.SceneNode(nothing, nothing, Dict{String,Array{UInt8,1}}(), nothing, Dict{String,MeshCat.SceneTrees.SceneNode}(\"pole\" => MeshCat.SceneTrees.SceneNode(nothing, UInt8[0x83, 0xa6, 0x6d, 0x61, 0x74, 0x72, 0x69, 0x78, 0xc7, 0x40  …  0x2f, 0x63, 0x61, 0x72, 0x74, 0x2f, 0x70, 0x6f, 0x6c, 0x65], Dict{String,Array{UInt8,1}}(), nothing, Dict{String,MeshCat.SceneTrees.SceneNode}(\"geom\" => MeshCat.SceneTrees.SceneNode(nothing, nothing, Dict{String,Array{UInt8,1}}(), nothing, Dict{String,MeshCat.SceneTrees.SceneNode}(\"cyl\" => MeshCat.SceneTrees.SceneNode(UInt8[0x83, 0xa6, 0x6f, 0x62, 0x6a, 0x65, 0x63, 0x74, 0x84, 0xaa  …  0x65, 0x2f, 0x67, 0x65, 0x6f, 0x6d, 0x2f, 0x63, 0x79, 0x6c], nothing, Dict{String,Array{UInt8,1}}(), nothing, Dict{String,MeshCat.SceneTrees.SceneNode}()),\"mass\" => MeshCat.SceneTrees.SceneNode(UInt8[0x83, 0xa6, 0x6f, 0x62, 0x6a, 0x65, 0x63, 0x74, 0x84, 0xaa  …  0x2f, 0x67, 0x65, 0x6f, 0x6d, 0x2f, 0x6d, 0x61, 0x73, 0x73], nothing, Dict{String,Array{UInt8,1}}(), nothing, Dict{String,MeshCat.SceneTrees.SceneNode}()))))),\"box\" => MeshCat.SceneTrees.SceneNode(UInt8[0x83, 0xa6, 0x6f, 0x62, 0x6a, 0x65, 0x63, 0x74, 0x84, 0xaa  …  0x74, 0x2f, 0x63, 0x61, 0x72, 0x74, 0x2f, 0x62, 0x6f, 0x78], nothing, Dict{String,Array{UInt8,1}}(), nothing, Dict{String,MeshCat.SceneTrees.SceneNode}()),\"hinge\" => MeshCat.SceneTrees.SceneNode(UInt8[0x83, 0xa6, 0x6f, 0x62, 0x6a, 0x65, 0x63, 0x74, 0x84, 0xaa  …  0x63, 0x61, 0x72, 0x74, 0x2f, 0x68, 0x69, 0x6e, 0x67, 0x65], nothing, Dict{String,Array{UInt8,1}}(), nothing, Dict{String,MeshCat.SceneTrees.SceneNode}()))))))))), Set{Any}(), ip\"127.0.0.1\", 8701))"
      ]
     },
     "execution_count": 11,
     "metadata": {},
     "output_type": "execute_result"
    }
   ],
   "source": [
    "# Change initial condition and re-solve\n",
    "prob2 = copy(Problem(prob, x0=SA[+0.5, 0, 0.1, 0]))\n",
    "prob3 = copy(Problem(prob, x0=SA[-0.5, 0, 0.1, 0]))\n",
    "solver2 = ALTROSolver(prob2, opts)\n",
    "solver3 = ALTROSolver(prob3, opts)\n",
    "solve!(solver2)\n",
    "solve!(solver3)\n",
    "vis = Visualizer()\n",
    "TrajOptPlots.set_mesh!(vis, prob.model)\n",
    "render(vis)"
   ]
  },
  {
   "cell_type": "code",
   "execution_count": 12,
   "metadata": {},
   "outputs": [],
   "source": [
    "# Visualize both trajectories\n",
    "visualize!(vis, solver, solver2)\n",
    "visualize!(vis, model, get_trajectory(solver), get_trajectory(solver2))\n",
    "visualize!(vis, model, tf, states(solver), states(solver2))"
   ]
  },
  {
   "cell_type": "markdown",
   "metadata": {},
   "source": [
    "### Changing the color\n",
    "Using the `color` argument for the `set_mesh!` method, `visualize!` allows us a way to change the color of the models to distinguish between them. Passing `nothing` as a color will use the default colors."
   ]
  },
  {
   "cell_type": "code",
   "execution_count": 13,
   "metadata": {},
   "outputs": [],
   "source": [
    "# Make copies a single color\n",
    "visualize!(vis, solver, solver2, solver3, colors=colorant\"blue\")"
   ]
  },
  {
   "cell_type": "code",
   "execution_count": 14,
   "metadata": {},
   "outputs": [],
   "source": [
    "# Set individual colors\n",
    "visualize!(vis, solver, solver2, solver3, colors=[colorant\"blue\", nothing, colorant\"purple\"])"
   ]
  },
  {
   "cell_type": "markdown",
   "metadata": {},
   "source": [
    "## Waypoints\n",
    "It's often useful to visualize a set of waypoints, for example, for an image in a publication. TrajOptPlots provides a convenient method similar to the `visualize!` method. Be careful when the model is a large mesh, since this method may take a significant amount of time (e.g. the YakPlane in RobotZoo)."
   ]
  },
  {
   "cell_type": "code",
   "execution_count": 15,
   "metadata": {},
   "outputs": [],
   "source": [
    "# clear the robot copies\n",
    "delete!(vis[\"robot_copies\"])\n",
    "\n",
    "# visualize waypoints evenly distributed in time\n",
    "waypoints!(vis, solver2, length=11);"
   ]
  },
  {
   "cell_type": "code",
   "execution_count": 16,
   "metadata": {},
   "outputs": [],
   "source": [
    "# visualize waypoints at specific time indices\n",
    "waypoints!(vis, solver2, inds=[1,10,20,30,40,50,60,70,75,80,85,90,95,101]);"
   ]
  },
  {
   "cell_type": "markdown",
   "metadata": {},
   "source": [
    "### Changing the color\n",
    "Similar to the `visualize!` method we can change the color. We can leverage the `range` method defined on colors. Using `HSL` colors tends to provide more vibrant colors."
   ]
  },
  {
   "cell_type": "code",
   "execution_count": 17,
   "metadata": {},
   "outputs": [
    {
     "data": {
      "text/plain": [
       "MeshCat Visualizer with path /meshcat/robot/cart/pole/geom at http://127.0.0.1:8701"
      ]
     },
     "execution_count": 17,
     "metadata": {},
     "output_type": "execute_result"
    }
   ],
   "source": [
    "waypoints!(vis, solver2, length=21, \n",
    "    color=colorant\"green\", \n",
    "    color_end=colorant\"red\"\n",
    ")"
   ]
  },
  {
   "cell_type": "code",
   "execution_count": 18,
   "metadata": {},
   "outputs": [
    {
     "data": {
      "text/plain": [
       "MeshCat Visualizer with path /meshcat/robot/cart/pole/geom at http://127.0.0.1:8701"
      ]
     },
     "execution_count": 18,
     "metadata": {},
     "output_type": "execute_result"
    }
   ],
   "source": [
    "waypoints!(vis, solver2, length=21, \n",
    "    color=HSL(colorant\"green\"), \n",
    "    color_end=HSL(colorant\"red\")\n",
    ")"
   ]
  },
  {
   "cell_type": "code",
   "execution_count": 19,
   "metadata": {},
   "outputs": [
    {
     "data": {
      "text/plain": [
       "MeshCat Visualizer with path /meshcat/robot_copies at http://127.0.0.1:8701"
      ]
     },
     "execution_count": 19,
     "metadata": {},
     "output_type": "execute_result"
    }
   ],
   "source": [
    "# delete the waypoints\n",
    "TrajOptPlots.clear_waypoints!(vis)\n",
    "\n",
    "# delete robot copies\n",
    "TrajOptPlots.clear_copies!(vis)"
   ]
  },
  {
   "cell_type": "markdown",
   "metadata": {},
   "source": [
    "## Custom Models\n",
    "If you define your own model, you will need to define how you want TrajOptPlots to visualize it. This is done via two separate methods. First, we need to define the geometry of the model, which we do using `TrajOptPlots._set_mesh!`"
   ]
  },
  {
   "cell_type": "code",
   "execution_count": 20,
   "metadata": {},
   "outputs": [
    {
     "name": "stderr",
     "output_type": "stream",
     "text": [
      "┌ Info: MeshCat server started. You can open the visualizer by visiting the following URL in your browser:\n",
      "│ http://127.0.0.1:8703\n",
      "└ @ MeshCat /home/brian/.julia/dev/MeshCat/src/visualizer.jl:73\n"
     ]
    },
    {
     "data": {
      "text/html": [
       "    <div style=\"height: 500px; width: 100%; overflow-x: auto; overflow-y: hidden; resize: both\">\n",
       "    <iframe src=\"http://127.0.0.1:8703\" style=\"width: 100%; height: 100%; border: none\"></iframe>\n",
       "    </div>\n"
      ],
      "text/plain": [
       "MeshCat.DisplayedVisualizer(MeshCat.CoreVisualizer(MeshCat.SceneTrees.SceneNode(nothing, nothing, Dict{String,Array{UInt8,1}}(), nothing, Dict{String,MeshCat.SceneTrees.SceneNode}(\"meshcat\" => MeshCat.SceneTrees.SceneNode(nothing, nothing, Dict{String,Array{UInt8,1}}(), nothing, Dict{String,MeshCat.SceneTrees.SceneNode}(\"robot\" => MeshCat.SceneTrees.SceneNode(nothing, nothing, Dict{String,Array{UInt8,1}}(), nothing, Dict{String,MeshCat.SceneTrees.SceneNode}(\"rod\" => MeshCat.SceneTrees.SceneNode(UInt8[0x83, 0xa6, 0x6f, 0x62, 0x6a, 0x65, 0x63, 0x74, 0x84, 0xaa  …  0x2f, 0x72, 0x6f, 0x62, 0x6f, 0x74, 0x2f, 0x72, 0x6f, 0x64], nothing, Dict{String,Array{UInt8,1}}(), nothing, Dict{String,MeshCat.SceneTrees.SceneNode}()),\"cart\" => MeshCat.SceneTrees.SceneNode(nothing, nothing, Dict{String,Array{UInt8,1}}(), nothing, Dict{String,MeshCat.SceneTrees.SceneNode}(\"hinge2\" => MeshCat.SceneTrees.SceneNode(UInt8[0x83, 0xa6, 0x6f, 0x62, 0x6a, 0x65, 0x63, 0x74, 0x84, 0xaa  …  0x61, 0x72, 0x74, 0x2f, 0x68, 0x69, 0x6e, 0x67, 0x65, 0x32], nothing, Dict{String,Array{UInt8,1}}(), nothing, Dict{String,MeshCat.SceneTrees.SceneNode}()),\"pole1\" => MeshCat.SceneTrees.SceneNode(nothing, UInt8[0x83, 0xa6, 0x6d, 0x61, 0x74, 0x72, 0x69, 0x78, 0xc7, 0x40  …  0x63, 0x61, 0x72, 0x74, 0x2f, 0x70, 0x6f, 0x6c, 0x65, 0x31], Dict{String,Array{UInt8,1}}(), nothing, Dict{String,MeshCat.SceneTrees.SceneNode}(\"geom\" => MeshCat.SceneTrees.SceneNode(nothing, nothing, Dict{String,Array{UInt8,1}}(), nothing, Dict{String,MeshCat.SceneTrees.SceneNode}(\"cyl\" => MeshCat.SceneTrees.SceneNode(UInt8[0x83, 0xa6, 0x6f, 0x62, 0x6a, 0x65, 0x63, 0x74, 0x84, 0xaa  …  0x31, 0x2f, 0x67, 0x65, 0x6f, 0x6d, 0x2f, 0x63, 0x79, 0x6c], nothing, Dict{String,Array{UInt8,1}}(), nothing, Dict{String,MeshCat.SceneTrees.SceneNode}()),\"mass\" => MeshCat.SceneTrees.SceneNode(UInt8[0x83, 0xa6, 0x6f, 0x62, 0x6a, 0x65, 0x63, 0x74, 0x84, 0xaa  …  0x2f, 0x67, 0x65, 0x6f, 0x6d, 0x2f, 0x6d, 0x61, 0x73, 0x73], nothing, Dict{String,Array{UInt8,1}}(), nothing, Dict{String,MeshCat.SceneTrees.SceneNode}()))))),\"hinge1\" => MeshCat.SceneTrees.SceneNode(UInt8[0x83, 0xa6, 0x6f, 0x62, 0x6a, 0x65, 0x63, 0x74, 0x84, 0xaa  …  0x61, 0x72, 0x74, 0x2f, 0x68, 0x69, 0x6e, 0x67, 0x65, 0x31], nothing, Dict{String,Array{UInt8,1}}(), nothing, Dict{String,MeshCat.SceneTrees.SceneNode}()),\"box\" => MeshCat.SceneTrees.SceneNode(UInt8[0x83, 0xa6, 0x6f, 0x62, 0x6a, 0x65, 0x63, 0x74, 0x84, 0xaa  …  0x74, 0x2f, 0x63, 0x61, 0x72, 0x74, 0x2f, 0x62, 0x6f, 0x78], nothing, Dict{String,Array{UInt8,1}}(), nothing, Dict{String,MeshCat.SceneTrees.SceneNode}()),\"pole2\" => MeshCat.SceneTrees.SceneNode(nothing, UInt8[0x83, 0xa6, 0x6d, 0x61, 0x74, 0x72, 0x69, 0x78, 0xc7, 0x40  …  0x63, 0x61, 0x72, 0x74, 0x2f, 0x70, 0x6f, 0x6c, 0x65, 0x32], Dict{String,Array{UInt8,1}}(), nothing, Dict{String,MeshCat.SceneTrees.SceneNode}(\"geom\" => MeshCat.SceneTrees.SceneNode(nothing, nothing, Dict{String,Array{UInt8,1}}(), nothing, Dict{String,MeshCat.SceneTrees.SceneNode}(\"cyl\" => MeshCat.SceneTrees.SceneNode(UInt8[0x83, 0xa6, 0x6f, 0x62, 0x6a, 0x65, 0x63, 0x74, 0x84, 0xaa  …  0x32, 0x2f, 0x67, 0x65, 0x6f, 0x6d, 0x2f, 0x63, 0x79, 0x6c], nothing, Dict{String,Array{UInt8,1}}(), nothing, Dict{String,MeshCat.SceneTrees.SceneNode}()),\"mass\" => MeshCat.SceneTrees.SceneNode(UInt8[0x83, 0xa6, 0x6f, 0x62, 0x6a, 0x65, 0x63, 0x74, 0x84, 0xaa  …  0x2f, 0x67, 0x65, 0x6f, 0x6d, 0x2f, 0x6d, 0x61, 0x73, 0x73], nothing, Dict{String,Array{UInt8,1}}(), nothing, Dict{String,MeshCat.SceneTrees.SceneNode}()))))))))))))), Set{Any}(), ip\"127.0.0.1\", 8703))"
      ]
     },
     "execution_count": 20,
     "metadata": {},
     "output_type": "execute_result"
    }
   ],
   "source": [
    "using RobotDynamics\n",
    "using GeometryBasics\n",
    "using CoordinateTransformations\n",
    "using Rotations\n",
    "struct DoubleCartpole{T} <: AbstractModel\n",
    "    l1::T\n",
    "    l2::T\n",
    "end\n",
    "state_dim(::DoubleCartpole) = 6\n",
    "control_dim(::DoubleCartpole) = 1\n",
    "# we won't define the dynamics here\n",
    "\n",
    "function TrajOptPlots._set_mesh!(vis, model::DoubleCartpole; color=nothing)\n",
    "    # Define the geometry\n",
    "    dim = Vec(0.1, 0.4, 0.1)  # size of the cart\n",
    "    rod = Cylinder(Point3f0(0,-10,0), Point3f0(0,10,0), 0.03f0)\n",
    "    cart = Rect3D(-dim/2, dim)\n",
    "    hinge1 = Cylinder(\n",
    "        Point3f0(-dim[1]/2, dim[2]/4, dim[3]/2), \n",
    "        Point3f0(dim[1], dim[2]/4, dim[3]/2), \n",
    "        0.03f0\n",
    "    )\n",
    "    hinge2 = Cylinder(\n",
    "        Point3f0(-dim[1]/2, -dim[2]/4, dim[3]/2), \n",
    "        Point3f0(dim[1], -dim[2]/4, dim[3]/2), \n",
    "        0.03f0\n",
    "    )\n",
    "    color = isnothing(color) ? colorant\"green\" : color\n",
    "    pole1 = Cylinder(Point3f0(0,0,0), Point3f0(0,0,model.l1), 0.01f0)\n",
    "    pole2 = Cylinder(Point3f0(0,0,0), Point3f0(0,0,model.l2), 0.01f0)\n",
    "    mass1 = Sphere(Point3f0(0,0,model.l1), 0.05f0)\n",
    "    mass2 = Sphere(Point3f0(0,0,model.l2), 0.05f0)\n",
    "    \n",
    "    # Place geometry in visualizer tree and define the material properties\n",
    "    setobject!(vis[\"rod\"], rod, MeshPhongMaterial(color=colorant\"grey\"))\n",
    "    setobject!(vis[\"cart\",\"box\"], cart, MeshPhongMaterial(color=color))\n",
    "    setobject!(vis[\"cart\",\"hinge1\"], hinge1, MeshPhongMaterial(color=colorant\"black\"))\n",
    "    setobject!(vis[\"cart\",\"hinge2\"], hinge2, MeshPhongMaterial(color=colorant\"black\"))\n",
    "    setobject!(vis[\"cart\",\"pole1\",\"geom\",\"cyl\"], pole1, MeshPhongMaterial(color=colorant\"grey\"))\n",
    "    setobject!(vis[\"cart\",\"pole2\",\"geom\",\"cyl\"], pole2, MeshPhongMaterial(color=colorant\"grey\"))\n",
    "    setobject!(vis[\"cart\",\"pole1\",\"geom\",\"mass\"], mass1, MeshPhongMaterial(color=color))\n",
    "    setobject!(vis[\"cart\",\"pole2\",\"geom\",\"mass\"], mass2, MeshPhongMaterial(color=color))\n",
    "    \n",
    "    # Move the poles to the hinged\n",
    "    settransform!(vis[\"cart\",\"pole1\"], Translation(0.75dim[1], dim[2]/4, dim[3]/2))\n",
    "    settransform!(vis[\"cart\",\"pole2\"], Translation(0.75dim[1], -dim[2]/4, dim[3]/2))\n",
    "end\n",
    "\n",
    "vis = Visualizer()\n",
    "TrajOptPlots.set_mesh!(vis, DoubleCartpole(.5,.5), color=colorant\"firebrick\")\n",
    "render(vis)"
   ]
  },
  {
   "cell_type": "markdown",
   "metadata": {},
   "source": [
    "After defining what the geometry looks like, we need to define how it changes with the state. We define our state vector to be `[x, theta1, theta2, xdot, theta1dot, theta2dot]`. We just need to define our custom `visualize!` method:"
   ]
  },
  {
   "cell_type": "code",
   "execution_count": 21,
   "metadata": {},
   "outputs": [],
   "source": [
    "function TrajOptPlots.visualize!(vis, model::DoubleCartpole, x::SVector)\n",
    "    y = x[1]\n",
    "    θ1,θ2 = x[2], x[3]\n",
    "    q1 = expm(SA[1,0,0]*(θ1-pi))\n",
    "    q2 = expm(SA[1,0,0]*(θ2-pi))    \n",
    "    settransform!(vis[\"robot\",\"cart\"], Translation(0,y,0))\n",
    "    settransform!(vis[\"robot\",\"cart\",\"pole1\",\"geom\"], LinearMap(q1))\n",
    "    settransform!(vis[\"robot\",\"cart\",\"pole2\",\"geom\"], LinearMap(q2))\n",
    "end\n",
    "\n",
    "# Test it out \n",
    "visualize!(vis, DoubleCartpole(.5,.5), SA[1,deg2rad(0),deg2rad(180)]);"
   ]
  },
  {
   "cell_type": "code",
   "execution_count": 22,
   "metadata": {},
   "outputs": [],
   "source": [
    "# Define a new state vector and visualize a trajectory\n",
    "X = [SA[x[1],x[2],x[2],0,0,0] for x in states(solver)]\n",
    "visualize!(vis, DoubleCartpole(0.5,0.5), prob.tf, X)"
   ]
  },
  {
   "cell_type": "markdown",
   "metadata": {},
   "source": [
    "## Rigid Bodies\n",
    "Many robotic systems can be modeled as a single rigid body moving freely in three-dimensional space. These systems are easy to visualize, so TrajOptPlots provides some convenient methods for working with these systems. "
   ]
  },
  {
   "cell_type": "code",
   "execution_count": 23,
   "metadata": {},
   "outputs": [
    {
     "name": "stderr",
     "output_type": "stream",
     "text": [
      "┌ Info: MeshCat server started. You can open the visualizer by visiting the following URL in your browser:\n",
      "│ http://127.0.0.1:8704\n",
      "└ @ MeshCat /home/brian/.julia/dev/MeshCat/src/visualizer.jl:73\n"
     ]
    },
    {
     "data": {
      "text/html": [
       "    <div style=\"height: 500px; width: 100%; overflow-x: auto; overflow-y: hidden; resize: both\">\n",
       "    <iframe src=\"http://127.0.0.1:8704\" style=\"width: 100%; height: 100%; border: none\"></iframe>\n",
       "    </div>\n"
      ],
      "text/plain": [
       "MeshCat.DisplayedVisualizer(MeshCat.CoreVisualizer(MeshCat.SceneTrees.SceneNode(nothing, nothing, Dict{String,Array{UInt8,1}}(), nothing, Dict{String,MeshCat.SceneTrees.SceneNode}(\"meshcat\" => MeshCat.SceneTrees.SceneNode(nothing, nothing, Dict{String,Array{UInt8,1}}(), nothing, Dict{String,MeshCat.SceneTrees.SceneNode}(\"robot\" => MeshCat.SceneTrees.SceneNode(nothing, nothing, Dict{String,Array{UInt8,1}}(), nothing, Dict{String,MeshCat.SceneTrees.SceneNode}(\"geom\" => MeshCat.SceneTrees.SceneNode(UInt8[0x83, 0xa6, 0x6f, 0x62, 0x6a, 0x65, 0x63, 0x74, 0x84, 0xaa  …  0x72, 0x6f, 0x62, 0x6f, 0x74, 0x2f, 0x67, 0x65, 0x6f, 0x6d], nothing, Dict{String,Array{UInt8,1}}(), nothing, Dict{String,MeshCat.SceneTrees.SceneNode}()))))))), Set{Any}(), ip\"127.0.0.1\", 8704))"
      ]
     },
     "execution_count": 23,
     "metadata": {},
     "output_type": "execute_result"
    }
   ],
   "source": [
    "# Load the Quadrotor model\n",
    "using RobotZoo: Quadrotor\n",
    "vis = Visualizer()\n",
    "TrajOptPlots.set_mesh!(vis, Quadrotor())\n",
    "render(vis)"
   ]
  },
  {
   "cell_type": "markdown",
   "metadata": {},
   "source": [
    "To visualize these systems we can provide the `RobotDynamics.RBState` type, which assumes the rotation is modeled as quaternion, and provides some useful methods for converting between different rotation parameterizations. For instance, if our model uses Modifed Rodrigues Parameters (MRPs), we can visualize states using any rotation convention:"
   ]
  },
  {
   "cell_type": "code",
   "execution_count": 24,
   "metadata": {},
   "outputs": [],
   "source": [
    "model = Quadrotor{MRP}()\n",
    "visualize!(vis, model, RBState(zeros(3), rand(MRP), zeros(3), zeros(3)))\n",
    "visualize!(vis, model, RBState(zeros(3), RotX(pi/6), zeros(3), zeros(3)))\n",
    "visualize!(vis, model, RBState(zeros(3), expm(SA[0,0,1]*pi/4), zeros(3), zeros(3)));"
   ]
  },
  {
   "cell_type": "markdown",
   "metadata": {},
   "source": [
    "If we have a trajectory of `RBState`s we can visualize it as follows. Note that MeshCat\n",
    "automatically interpolates between the states."
   ]
  },
  {
   "cell_type": "code",
   "execution_count": 25,
   "metadata": {},
   "outputs": [],
   "source": [
    "X = [rand(RBState) for x = 1:10]\n",
    "X2 = [RobotDynamics.build_state(model, x) for x in X]\n",
    "visualize!(vis, model, tf, X2, colors=[colorant\"blue\"])"
   ]
  },
  {
   "cell_type": "markdown",
   "metadata": {},
   "source": [
    "## Default visualization\n",
    "If a custom `visualize!` method isn't defined for a model, it will treat it as a rigid body and try to convert the state to a `RBState` using `RBState(model, x)`. One easy way to visualize is to simply define this method instead of the `visualize!` method. This method should be preferred for any model that inherits from `RobotDynamics.RigidBody`."
   ]
  }
 ],
 "metadata": {
  "kernelspec": {
   "display_name": "Julia 1.5.3",
   "language": "julia",
   "name": "julia-1.5"
  },
  "language_info": {
   "file_extension": ".jl",
   "mimetype": "application/julia",
   "name": "julia",
   "version": "1.5.3"
  }
 },
 "nbformat": 4,
 "nbformat_minor": 4
}
